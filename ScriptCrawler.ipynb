{
 "cells": [
  {
   "cell_type": "code",
   "execution_count": 35,
   "metadata": {
    "collapsed": true
   },
   "outputs": [],
   "source": [
    "# Initial imports\n",
    "import numpy as np\n",
    "import pandas as pd \n",
    "from pandas import DataFrame, Series\n",
    "import matplotlib.pyplot as plt\n",
    "import seaborn as sns\n",
    "from scipy import stats\n",
    "%matplotlib inline\n",
    "import re\n",
    "\n",
    "import random\n",
    "import urllib.request\n",
    "import requests\n",
    "from bs4 import BeautifulSoup\n",
    "import warnings\n",
    "warnings.filterwarnings('ignore')"
   ]
  },
  {
   "cell_type": "code",
   "execution_count": 241,
   "metadata": {
    "collapsed": false
   },
   "outputs": [],
   "source": [
    "def _format_num(n):\n",
    "    return '%02d' % n"
   ]
  },
  {
   "cell_type": "code",
   "execution_count": 249,
   "metadata": {
    "collapsed": false
   },
   "outputs": [],
   "source": [
    "episode_info_df = DataFrame(columns=('Season', 'EpisodeNo', 'Title', 'AirDate', 'Writers', 'Director', 'SEID'))\n",
    "script_df = DataFrame(columns=('SEID', 'Character', 'Dialogue'))\n",
    "BASE_URL = 'http://www.seinology.com/scripts/script-' \n",
    "EPISODE_NUMBERS = (\n",
    "    list(map(_format_num, range(1, 82))) +\n",
    "\n",
    "    # Double episode\n",
    "    ['82and83'] +\n",
    "\n",
    "    list(map(_format_num, range(84, 100))) +\n",
    "\n",
    "    # Skip the clip show \"100and101\".\n",
    "\n",
    "    list(map(_format_num, range(102, 177))) +\n",
    "\n",
    "    # Skip the clip show \"177and178\".\n",
    "\n",
    "    # Double episode (Finale)\n",
    "    ['179and180']\n",
    ")"
   ]
  },
  {
   "cell_type": "code",
   "execution_count": 243,
   "metadata": {
    "collapsed": true
   },
   "outputs": [],
   "source": [
    "def get_episode_soup(no):\n",
    "    url = BASE_URL + str(no) + '.shtml'\n",
    "    source_code = requests.get(url)\n",
    "    plain_text = source_code.text\n",
    "    return plain_text"
   ]
  },
  {
   "cell_type": "code",
   "execution_count": 244,
   "metadata": {
    "collapsed": true
   },
   "outputs": [],
   "source": [
    "def parse_episode_info(html):\n",
    "    \"\"\"Return a dict with meta-info about the episode.\"\"\"\n",
    "    groups = re.search(r'pc: .*? season (\\d+), episode (\\d+)', html).groups()\n",
    "    season_num = int(groups[0])\n",
    "    episode_num = int(groups[1])\n",
    "\n",
    "    title = re.search(r'Episode \\d+(.*?) - (.*?)<', html).groups()[1]\n",
    "    date = re.search(r'Broadcast date: (.*?)<', html).groups()[0]\n",
    "    writers = re.search(r'Written [bB]y:? (.*?)<', html).groups()[0]\n",
    "    writers = tuple([w.strip() for w in re.split(r',|&amp;', writers) if w])\n",
    "    director = re.search(r'Directed [bB]y (.*?)<', html).groups()[0]\n",
    "\n",
    "    return {'season_num': season_num, 'episode_num': episode_num, \n",
    "            'title': title, 'date': date, 'writers': writers, \n",
    "            'director': director}"
   ]
  },
  {
   "cell_type": "code",
   "execution_count": 262,
   "metadata": {
    "collapsed": false
   },
   "outputs": [],
   "source": [
    "for no in EPISODE_NUMBERS:\n",
    "    html = get_episode_soup(no)\n",
    "    html_split = re.split(r'={30}.*', html)\n",
    "    header = html_split[0]\n",
    "    content = html_split[1]\n",
    "    episode_info = parse_episode_info(header)\n",
    "    soup = BeautifulSoup(html_split[1])\n",
    "    dialogues = list(filter(None, soup.find('body').text.replace('\\t', '').split('\\n')))\n",
    "    temp1 = DataFrame([[\n",
    "        episode_info['season_num'], \n",
    "        episode_info['episode_num'],\n",
    "        re.sub(r'[^\\x00-\\x7f]',r'', episode_info['title']) ,\n",
    "        episode_info['date'],\n",
    "        ', '.join(episode_info['writers']),\n",
    "        episode_info['director'],\n",
    "        'S'+ str(_format_num(episode_info['episode_num'])) + 'E' + str(_format_num(episode_info['season_num']))\n",
    "    ]], columns=('Season', 'EpisodeNo', 'Title', 'AirDate', 'Writers', 'Director', 'SEID'))\n",
    "    episode_info_df = episode_info_df.append(temp1, ignore_index = True)\n",
    "    for dialogue in dialogues:\n",
    "        if len(dialogue.split(':')) <= 1:\n",
    "            continue\n",
    "        dialogue_split = dialogue.split(':')\n",
    "        character = dialogue_split.pop(0)\n",
    "        line = ''.join(dialogue_split).strip()\n",
    "        line = re.sub(r'[^\\x00-\\x7f]',r'', line) \n",
    "        temp2 = DataFrame([[\n",
    "            episode_info['season_num'], \n",
    "            episode_info['episode_num'], \n",
    "            'S'+ str(_format_num(episode_info['episode_num'])) + 'E' + str(_format_num(episode_info['season_num'])), \n",
    "            character, \n",
    "            line\n",
    "        ]], columns=('Season', 'EpisodeNo', 'SEID', 'Character', 'Dialogue'))\n",
    "        script_df = script_df.append(temp2, ignore_index = True)\n",
    "    script_df.to_csv('scripts.csv', encoding='utf-8')\n",
    "    episode_info_df.to_csv('episode_info.csv', encoding='utf-8')\n",
    "    break\n",
    "    "
   ]
  },
  {
   "cell_type": "code",
   "execution_count": 266,
   "metadata": {
    "collapsed": false
   },
   "outputs": [
    {
     "data": {
      "text/plain": [
       "'I swear, I have absolutely no idea what women are thinking. I dont get it, okay? I, I, I admit, I, Im not getting the signals. I am not getting it! Women, theyre so subtle, their little...everything they do is subtle. Men are not subtle, we are obvious. Women know what men want, men know what men want, what do we want? We want women, thats it! Its the only thing we know for sure, it really is. We want women. How do we get them? Oh, we dont know bout that, we dont know. The next step after that we have no idea. This is why you see men honking car-horns, yelling from construction sites. These are the best ideas weve had so far. The car-horn honk, is that a beauty? Have you seen men doing this? What is this? The man is in the car, the woman walks by the front of the car, he honks. E-eeehh, eehhh, eehhh! This man is out of ideas. How does it...? E-e-e-eeeehhhh! I dont think she likes me. The amazing thing is, that we still get women, dont we? Men, I mean, men are with women. You see men with women. How are men getting women, many people wonder. Let me tell you a little bit about our organization. Wherever women are, we have a man working on the situation right now. Now, he may not be our best man, okay, we have a lot of areas to cover, but someone from our staff is on the scene. Thats why, I think, men get frustrated, when we see women reading articles, like Where to meet men? Were here, we are everywhere. Were honking our horns to serve you better.'"
      ]
     },
     "execution_count": 266,
     "metadata": {},
     "output_type": "execute_result"
    }
   ],
   "source": [
    "re.sub(r'[^\\x00-\\x7f]',r'', line)"
   ]
  },
  {
   "cell_type": "code",
   "execution_count": 260,
   "metadata": {
    "collapsed": false
   },
   "outputs": [
    {
     "data": {
      "text/html": [
       "<div>\n",
       "<table border=\"1\" class=\"dataframe\">\n",
       "  <thead>\n",
       "    <tr style=\"text-align: right;\">\n",
       "      <th></th>\n",
       "      <th>Season</th>\n",
       "      <th>EpisodeNo</th>\n",
       "      <th>Title</th>\n",
       "      <th>AirDate</th>\n",
       "      <th>Writers</th>\n",
       "      <th>Director</th>\n",
       "      <th>SEID</th>\n",
       "    </tr>\n",
       "  </thead>\n",
       "  <tbody>\n",
       "    <tr>\n",
       "      <th>0</th>\n",
       "      <td>1.0</td>\n",
       "      <td>1.0</td>\n",
       "      <td>b'Good News, Bad News'</td>\n",
       "      <td>July 5, 1989</td>\n",
       "      <td>Larry David, Jerry Seinfeld</td>\n",
       "      <td>Art Wolff</td>\n",
       "      <td>SE01EP01</td>\n",
       "    </tr>\n",
       "  </tbody>\n",
       "</table>\n",
       "</div>"
      ],
      "text/plain": [
       "   Season  EpisodeNo                   Title       AirDate  \\\n",
       "0     1.0        1.0  b'Good News, Bad News'  July 5, 1989   \n",
       "\n",
       "                       Writers   Director      SEID  \n",
       "0  Larry David, Jerry Seinfeld  Art Wolff  SE01EP01  "
      ]
     },
     "execution_count": 260,
     "metadata": {},
     "output_type": "execute_result"
    }
   ],
   "source": [
    "episode_info_df"
   ]
  },
  {
   "cell_type": "code",
   "execution_count": 239,
   "metadata": {
    "collapsed": false
   },
   "outputs": [
    {
     "data": {
      "text/plain": [
       "{'date': 'July 5, 1989',\n",
       " 'director': 'Art Wolff',\n",
       " 'episode_num': 1,\n",
       " 'season_num': 1,\n",
       " 'title': 'Good News, Bad News',\n",
       " 'writers': ('Larry David', 'Jerry Seinfeld')}"
      ]
     },
     "execution_count": 239,
     "metadata": {},
     "output_type": "execute_result"
    }
   ],
   "source": [
    "episode_info"
   ]
  },
  {
   "cell_type": "code",
   "execution_count": 229,
   "metadata": {
    "collapsed": false
   },
   "outputs": [
    {
     "data": {
      "text/plain": [
       "[' Do you know what this is all about? Do you know, why we\\x92re here? To be out, this is out...and out is one of the single most enjoyable experiences of life. People...did you ever hear people talking about \\x93We should go out\\x94? This is what they\\x92re talking about...this whole thing, we\\x92re all out now, no one is home. Not one person here is home, we\\x92re all out! There are people tryin\\x92 to find us, they don\\x92t know where we are. (on an imaginary phone) \\x93Did you ring?, I can\\x92t find him.\\x94 \\x93Where did he go?\\x94 \\x93He didn\\x92t tell me where he was going\\x94. He must have gone out. You wanna go out',\n",
       " ' you get ready, you pick out the clothes, right? You take the shower, you get all ready, get the cash, get your friends, the car, the spot, the reservation...Then you\\x92re standing around, whatta you do? You go',\n",
       " ' \\x93We gotta be getting back\\x94. Once you\\x92re out, you wanna get back! You wanna go to sleep, you wanna get up, you wanna go out again tomorrow, right? Where ever you are in life, it\\x92s my feeling, you\\x92ve gotta go.']"
      ]
     },
     "execution_count": 229,
     "metadata": {},
     "output_type": "execute_result"
    }
   ],
   "source": [
    "a = l.pop(0)\n",
    "a\n",
    "l"
   ]
  },
  {
   "cell_type": "code",
   "execution_count": 230,
   "metadata": {
    "collapsed": false
   },
   "outputs": [
    {
     "data": {
      "text/plain": [
       "'JERRY'"
      ]
     },
     "execution_count": 230,
     "metadata": {},
     "output_type": "execute_result"
    }
   ],
   "source": [
    "a"
   ]
  },
  {
   "cell_type": "code",
   "execution_count": 234,
   "metadata": {
    "collapsed": false
   },
   "outputs": [
    {
     "data": {
      "text/plain": [
       "'Do you know what this is all about? Do you know, why we\\x92re here? To be out, this is out...and out is one of the single most enjoyable experiences of life. People...did you ever hear people talking about \\x93We should go out\\x94? This is what they\\x92re talking about...this whole thing, we\\x92re all out now, no one is home. Not one person here is home, we\\x92re all out! There are people tryin\\x92 to find us, they don\\x92t know where we are. (on an imaginary phone) \\x93Did you ring?, I can\\x92t find him.\\x94 \\x93Where did he go?\\x94 \\x93He didn\\x92t tell me where he was going\\x94. He must have gone out. You wanna go out you get ready, you pick out the clothes, right? You take the shower, you get all ready, get the cash, get your friends, the car, the spot, the reservation...Then you\\x92re standing around, whatta you do? You go \\x93We gotta be getting back\\x94. Once you\\x92re out, you wanna get back! You wanna go to sleep, you wanna get up, you wanna go out again tomorrow, right? Where ever you are in life, it\\x92s my feeling, you\\x92ve gotta go.'"
      ]
     },
     "execution_count": 234,
     "metadata": {},
     "output_type": "execute_result"
    }
   ],
   "source": [
    "''.join(l).strip()"
   ]
  },
  {
   "cell_type": "code",
   "execution_count": 188,
   "metadata": {
    "collapsed": false
   },
   "outputs": [
    {
     "data": {
      "text/plain": [
       "{'date': 'July 5, 1989',\n",
       " 'director': 'Art Wolff',\n",
       " 'episode_num': 1,\n",
       " 'season_num': 1,\n",
       " 'title': 'Good News, Bad News',\n",
       " 'writers': ('Larry David', 'Jerry Seinfeld')}"
      ]
     },
     "execution_count": 188,
     "metadata": {},
     "output_type": "execute_result"
    }
   ],
   "source": [
    "episode_info"
   ]
  },
  {
   "cell_type": "code",
   "execution_count": 187,
   "metadata": {
    "collapsed": false
   },
   "outputs": [
    {
     "data": {
      "text/plain": [
       "['INT. COMEDY CLUB \\x96 NIGHT',\n",
       " '(Jerry is on stage, performing.)',\n",
       " 'JERRY: Do you know what this is all about? Do you know, why we\\x92re here? To be out, this is out...and out is one of the single most enjoyable experiences of life. People...did you ever hear people talking about \\x93We should go out\\x94? This is what they\\x92re talking about...this whole thing, we\\x92re all out now, no one is home. Not one person here is home, we\\x92re all out! There are people tryin\\x92 to find us, they don\\x92t know where we are. (on an imaginary phone) \\x93Did you ring?, I can\\x92t find him.\\x94 \\x93Where did he go?\\x94 \\x93He didn\\x92t tell me where he was going\\x94. He must have gone out. You wanna go out: you get ready, you pick out the clothes, right? You take the shower, you get all ready, get the cash, get your friends, the car, the spot, the reservation...Then you\\x92re standing around, whatta you do? You go: \\x93We gotta be getting back\\x94. Once you\\x92re out, you wanna get back! You wanna go to sleep, you wanna get up, you wanna go out again tomorrow, right? Where ever you are in life, it\\x92s my feeling, you\\x92ve gotta go.',\n",
       " 'INT. PETE\\x92S LUNCHEONETTE \\x96 DAY',\n",
       " '(Jerry and George sit at a table, having coffee.)',\n",
       " 'JERRY: (pointing at George\\x92s shirt) See, to me, that button is in the worst possible spot. The second button literally makes or breaks the shirt, look at it. It\\x92s too high! It\\x92s in no-man\\x92s-land. You look like you live with your mother.',\n",
       " 'GEORGE: Are you through? ',\n",
       " 'JERRY: You do of course try on, when you buy?',\n",
       " 'GEORGE: Yes, it was purple, I liked it, I don\\x92t actually recall considering the buttons.',\n",
       " 'JERRY: Oh, you don\\x92t recall?',\n",
       " 'GEORGE: (on an imaginary microphone) Uh, no, not at this time.',\n",
       " 'JERRY: Well, senator, I\\x92d just like to know, what you knew and when you knew it.',\n",
       " '(A waitress, Claire, approaches the table. She pours refills Jerry\\x92s coffee.)',\n",
       " 'CLAIRE: Mr. Seinfeld. Mr. Costanza. ',\n",
       " '(Claire tries to refill George\\x92s coffee, but George blocks her.)',\n",
       " 'GEORGE: Are, are you sure this is decaf? Where\\x92s the orange indicator?',\n",
       " 'CLAIRE: It\\x92s missing, I have to do it in my head: decaf left, regular right, decaf left, regular right...it\\x92s very challenging work.',\n",
       " 'JERRY: Can you relax, it\\x92s a cup of coffee. Claire is a professional waitress.',\n",
       " 'CLAIRE: Trust me George. No one has any interest in seeing you on caffeine.',\n",
       " '(Claire exits.)',\n",
       " 'GEORGE: How come you\\x92re not doin\\x92 the second show tomorrow?',\n",
       " 'JERRY: Well, there\\x92s this uh, woman might be comin\\x92 in.',\n",
       " 'GEORGE: Wait a second, wait a second, what coming in, what woman is coming in?',\n",
       " 'JERRY: I told you about Laura, the girl I met in Michigan?',\n",
       " 'GEORGE: No, you didn\\x92t!',\n",
       " 'JERRY: I thought I told you about it, yes, she teaches political science? I met her the night I did the show in Lansing... ',\n",
       " 'GEORGE: Ha.',\n",
       " 'JERRY: (looks in the creamer) There\\x92s no milk in here, what...',\n",
       " 'GEORGE: Wait wait wait, what is she... (takes the milk can from Jerry and puts it on the table) What is she like?',\n",
       " 'JERRY: Oh, she\\x92s really great. I mean, she\\x92s got like a real warmth about her and she\\x92s really bright and really pretty and uh... the conversation though, I mean, it was... talking with her is like talking with you, but, you know, obviously much better.',\n",
       " 'GEORGE: (smiling) So, you know, what, what happened?',\n",
       " 'JERRY: Oh, nothing happened, you know, but is was great.',\n",
       " 'GEORGE: Oh, nothing happened, but it was...',\n",
       " 'JERRY: Yeah.',\n",
       " 'GEORGE: This is great!',\n",
       " 'JERRY: Yeah.',\n",
       " 'GEORGE: So, you know, she calls and says she wants to go out with you tomorrow night? God bless! Devil you!',\n",
       " 'JERRY: Yeah, well...not exactly. I mean, she said, you know, she called this morning and said she had to come in for a seminar and maybe we\\x92ll get together. ',\n",
       " 'GEORGE: (whistles disapprovingly) Ho ho ho, \\x91Had to\\x92? \\x91Had to\\x92 come in?',\n",
       " 'JERRY: Yeah, but...',\n",
       " 'GEORGE: \\x91Had to come in\\x92 and \\x91maybe we\\x92ll get together\\x92? \\x91Had to\\x92 and \\x91maybe\\x92?',\n",
       " 'JERRY: Yeah!',\n",
       " 'GEORGE: No...no...no, I hate to tell you this. You\\x92re not gonna see this woman.',\n",
       " 'JERRY: What, are you serious...why, why did she call?',\n",
       " 'GEORGE: How do I know, maybe, you know, maybe she wanted to be polite. ',\n",
       " 'JERRY: To be polite? You are insane!',\n",
       " 'GEORGE: All right, all right, I didn\\x92t want to tell you this. You wanna know why she called you?',\n",
       " 'JERRY: Yes!',\n",
       " 'GEORGE: You\\x92re a back-up, you\\x92re a second-line, a just-in-case, a B-plan, a contingency!',\n",
       " 'JERRY: Oh, I get it, this is about the button.',\n",
       " '(Claire passes the table; George stops her and writes something on his notepad.)',\n",
       " 'GEORGE: Claire, Claire, you\\x92re a woman, right?',\n",
       " 'CLAIRE: What gave it away, George?',\n",
       " 'GEORGE: Uhm...I\\x92d like to ask you...ask you to analyze a hypothetical phone call, you know, from a female point of view.',\n",
       " 'JERRY (to George) Oh, come on now, what are you asking her? Now, how is she gonna know?',\n",
       " 'GEORGE: (to Claire) Now, a woman calls me, all right? ',\n",
       " 'CLAIE: Uh huh.',\n",
       " 'GEORGE: She says she \\x91has to\\x92 come to New York on business...',\n",
       " 'JERRY: Oh you are beautiful!',\n",
       " 'GEORGE: ...and, and \\x91maybe\\x92 she\\x92ll see me when she gets there, does this woman intend to spend time with me?',\n",
       " 'CLAIRE: I\\x92d have to say, uuhh, no. ',\n",
       " '(George shows his note-block to Jerry; it says very largely: NO.)',\n",
       " 'GEORGE (to Claire) So why did she call?',\n",
       " 'CLAIRE: To be polite.',\n",
       " 'GEORGE: To be polite. I rest my case.',\n",
       " 'JERRY: Good. Did you have fun? You have no idea, what you\\x92re talking about, now, come on, come with me. (stands up) I gotta go get my stuff out of the dryer anyway.',\n",
       " 'GEORGE: I\\x92m not gonna watch you do laundry.',\n",
       " 'JERRY: Oh, come on, be a come-with guy.',\n",
       " 'GEORGE: Come on, I\\x92m tired.',\n",
       " 'CLAIRE: (to Jerry) Don\\x92t worry, I gave him a little caffeine. He\\x92ll perk up.',\n",
       " 'GEORGE: (panicking) Right, I knew I felt something!',\n",
       " '(Claire exits, smiling.)',\n",
       " 'INT. LAUNDRAMAT - DAY',\n",
       " '(Jerry and George are there; George is staring at one of the dryers.)',\n",
       " 'GEORGE: Jerry? I have to tell you something. This is the dullest moment I\\x92ve ever experienced. ',\n",
       " '(George walks away from the dryer. A man passes by.)',\n",
       " 'JERRY: Well, look at this guy. Look, he\\x92s got everything, he\\x92s got detergents, sprays, fabric softeners.  This is not his first load.',\n",
       " 'GEORGE: I need a break, Jerry, you know. I gotta get out of the city. I feel so cramped...',\n",
       " 'JERRY: And you didn\\x92t even hear how she sounded.',\n",
       " 'GEORGE: What?!',\n",
       " 'JERRY: Laura.',\n",
       " 'GEORGE: I can\\x92t believe- (falls on his knees) WE ALREADY DISCUSSED THIS!',\n",
       " 'JERRY: Yeah, but how could you be so sure?',\n",
       " 'GEORGE: \\x91Cause it\\x92s signals, Jerry, it\\x92s signals! (snapping his fingers) Don\\x92t you- all right. Did she even ask you, what you were doin\\x92 tomorrow night, if you were busy?',\n",
       " 'JERRY: No.',\n",
       " 'GEORGE: She calls you today and she doesn\\x92t make a plan for tomorrow? What is that? It\\x92s Saturday night!',\n",
       " 'JERRY: Yeah.',\n",
       " 'GEORGE: What is that? It\\x92s ridiculous! You don\\x92t even know what hotel she\\x92s staying at, you can\\x92t call her. That\\x92s a signal, Jerry, that\\x92s a signal! (snaps his fingers) Signal!',\n",
       " 'JERRY: Maybe you\\x92re right.',\n",
       " 'GEORGE: Maybe I\\x92m right? Of course I\\x92m right.',\n",
       " 'JERRY: This is insane. You know, I don\\x92t even know where she\\x92s staying! She, she\\x92s not gonna call me, this is unbelievable.',\n",
       " '(George puts his arm around Jerry.)',\n",
       " 'GEORGE: I know, I know. Listen, your stuff has to be done by now, why don\\x92t you just see if it\\x92s dry?',\n",
       " 'JERRY: No no no, don\\x92t interrupt the cycle. The machine is working, it, it knows what it\\x92s doing. Just let it finish.',\n",
       " 'GEORGE: You\\x92re gonna overdry it.',\n",
       " 'JERRY: You, you can\\x92t overdry.',\n",
       " 'GEORGE: Why not?',\n",
       " 'JERRY: Same as you can\\x92t overwet. You see, once something is wet, it\\x92s wet. Same thing with death. Like once you die you\\x92re dead, right? Let\\x92s say you drop dead and I shoot you. You\\x92re not gonna die again, you\\x92re already dead. You can\\x92t overdie, you can\\x92t overdry.',\n",
       " 'GEORGE: (to the other laundry patrons) Any questions?',\n",
       " 'JERRY: How could she not tell me where she was staying? ',\n",
       " '(George stands by the dryer again and secretly opens it. The dryer stops working and he closes the lid.)',\n",
       " 'GEORGE: Look at that. They\\x92re done! ',\n",
       " 'INT. COMEDY CLUB \\x96 NIGHT',\n",
       " '(Jerry is on stage, peforming.)',\n",
       " 'JERRY: Laundry day is the only exciting day in the life of clothes. It is...y\\x92know, think about it. The washing machine is the nightclub of clothes. You know, it\\x92s dark, there\\x92s bubbles happening, they\\x92re all kinda dancing around in there- shirt grabs the underwear, \\x93C\\x92mon babe, let\\x92s go\\x94. You come by, you open up the lid and they\\x92ll- (stiffens up, as the clothes) Socks are the most amazing article of clothing. They hate their lives, they\\x92re in the shoes with stinky feet, the boring drawers. The dryer is their only chance to escape and they all know it. They knew a escape from the dryer. They plan it in the hamper the night before, \\x93Tomorrow, the dryer, I\\x92m goin\\x92. You wait here!\\x94 The dryer door swings open and the sock is waiting up against the side wall. He hopes you don\\x92t see him and then he goes down the road. They get buttons sewn on their faces, join a puppet show. So they\\x92re showing me on television the detergent for getting out bloodstains. Is this a violent image to anybody? Bloodstains? I mean, come on, you got a T-shirt with bloodstains all over it, maybe laundry isn\\x92t your biggest problem right now. You gotta get the harpoon out your chest first. ',\n",
       " 'INT. JERRY\\x92S APARTMENT',\n",
       " '(Jerry is on the couch, watching TV. The phone rings. He picks up the reciever.)',\n",
       " 'JERRY: (answering, quickly) If you know what happened in the Met game, don\\x92t say anything, I taped it, hello. Yeah, no, I\\x92m sorry, you have the wrong number. Yeah, no ',\n",
       " '(There\\x92s a knock at the door.)',\n",
       " 'JERRY: (to the door) Yeah?',\n",
       " '(Kessler enters.)',\n",
       " 'KESSLER: Are you up?',\n",
       " 'JERRY: (to Kessler) Yeah. (to the phone) Yeah, people do move. Have you ever seen the big trucks out on the street? Yeah, no problem.',\n",
       " '(Jerry hangs up.)',\n",
       " 'KESSLER: Boy, the Mets blew it tonight, huh? ',\n",
       " 'JERRY: (upset) Ohhhh, what are you doing? Kessler, it\\x92s a tape! I taped the game, it\\x92s one o\\x92clock in the morning! I avoided human contact all night to watch this.',\n",
       " 'KESSLER: Hey, I\\x92m sorry, I- you know, I, I thought you knew. (takes two loaves of bread out of his pockets, and holds them out to Jerry.) You got any meat?',\n",
       " 'JERRY: Meat? I don\\x92t, I don\\x92t know, go... hunt! (Kessler opens the refrigerator and sticks his head in.) Well what happened in the game anyway?',\n",
       " 'KESSLER: (from the refrigerator) What happened? Well, they STUNK, that\\x92s what happened!',\n",
       " '(He takes some meat from the refrigerator and closes it.)',\n",
       " 'KESSLER: You know, I almost wound up going to that game.',\n",
       " 'JERRY: (cynical) Yeah you almost went to the game. You haven\\x92t been out of the building in ten years!',\n",
       " 'KESSLER: Yeah. (Jerry sits down on the couch. Kessler walks over with his sandwich and looks at Jerry and uses expressions to ask Jerry to move the newspapers on the other side of the couch so he could site down. Kessler sits down next to him and starts turning over the pages of a magazine. Suddenly he spots an article he likes and tears it out. Jerry gives him a look as if to say, \\x93Do you mind?\\x94) Are you done with this?',\n",
       " 'JERRY: No.',\n",
       " '(Kessler glues the article back with his own saliva and puts the magazine back on the table.)',\n",
       " 'KESSLER: When you\\x92re done, let me know.',\n",
       " 'JERRY: Yeah, yeah...you can have it tomorrow.',\n",
       " 'KESSLER: I thought I wasn\\x92t allowed to be in here this weekend.',\n",
       " 'JERRY: No, it\\x92s okay now, that, that girl is not comin\\x92. Uh, I misread the whole thing.',\n",
       " 'KESSLER: You want me to talk to her?',\n",
       " 'JERRY: I don\\x92t think so.',\n",
       " 'KESSLER: Oh, I can be very persuasive. Do you know that I was almost... a lawyer.',\n",
       " '(Kessler shows with his fingers how close he was.)',\n",
       " 'JERRY: That close, huh?',\n",
       " 'KESSLER: You better believe it.',\n",
       " '(The phone rings. Jerry picks it up.)',\n",
       " 'JERRY: Hello...Oh, hi, Laura.',\n",
       " 'KESSLER: Oh, give me it...let me talk to her.',\n",
       " 'JERRY: (to the phone) No believe me, I\\x92m always up at this hour. How are you?... Great... Sure... What time does the plane get in?... I got my friend George to take me...',\n",
       " 'KESSLER: (to the TV) SLIDE! Wow!',\n",
       " 'JERRY: No, it\\x92s, it\\x92s just my neighbour... Um... Yeah, I got it. (Jerry takes a pencil and a cereal box to write on.) Ten-fifteen... No, don\\x92t be silly, go ahead and ask... Yeah, sure... Okay, great, no no, it\\x92s no trouble at all... I\\x92ll see you tomorrow... Great, bye. (He hangs up the phone; to Kessler) I don\\x92t believe it. That was her. She wants to stay here! ',\n",
       " 'INT. JERRY\\x92S APARTMENT \\x96 NIGHT',\n",
       " '(Jerry and George enter, carrying a heavy mattress.)',\n",
       " \"JERRY: If my father was moving this he\\x92d had to have a cigarette in his mouth the whole way. (as his father) 'Have you got your end?...Your end\\x92s got to come down first, easy now, drop it down...drop it down, your end\\x92s got to come down.'\",\n",
       " 'GEORGE: You know, I can\\x92t believe you\\x92re bringin\\x92 in an extra bed for woman that wants to sleep with you. Why don\\x92t you bring in an extra guy too?',\n",
       " '(George takes a seat. Jerry hands him a beer.)',\n",
       " 'JERRY: Look, it\\x92s a very awkward situation. I don\\x92t wanna be presumptuous.',\n",
       " 'GEORGE: All right, all right, one more time, one more time! What was the exact phrasing of the request?',\n",
       " 'JERRY: All right, she said she couldn\\x92t find a decent hotel room...',\n",
       " 'GEORGE: A decent hotel-room...',\n",
       " 'JERRY: Yeah, a decent hotel-room, would it be terribly inconvenient if she stayed at my place.',\n",
       " 'GEORGE: You can\\x92t be serious. This is New York city. There must be eleven million decent hotel rooms! Whatta you need? A flag? (waving his handkerchief) This is the signal, Jerry, this is the signal! ',\n",
       " 'JERRY: (cynical) This is the signal? Thank you, Mr. Signal. Where were you yesterday?',\n",
       " 'GEORGE: I think I was affected by the caffeine. ',\n",
       " '(Suddenly a dog enters the apartment and jumps George on the couch.)',\n",
       " 'GEORGE: Ho, ho, ho, good dog, good dog...',\n",
       " '(Kessler enters and closes the door.)',\n",
       " 'KESSLER: Hey, he really likes you, George.',\n",
       " 'GEORGE: Well, that\\x92s flattering. ',\n",
       " '(The dog heads for the bathroom and starts drinking from the toilet.)',\n",
       " 'KESSLER: Oh, he\\x92s gettin\\x92 a drink of water. (pointing to the mattress) Is this for that girl?',\n",
       " 'JERRY: Yeah.',\n",
       " 'KESSLER: Why even give her an option?',\n",
       " 'JERRY: This is a person I like, it\\x92s not \\x93How to score on spring break\\x94.',\n",
       " 'GEORGE: Right, can we go? \\x91Cause I\\x92m double-parked, I\\x92m gonna get a ticket.',\n",
       " 'JERRY: Yeah, okay. Oh, wait a second. Oh, I forgot to clean the bathroom.',\n",
       " 'GEORGE: So what? That\\x92s good.',\n",
       " 'JERRY: Now, how could that be good?',\n",
       " 'GEORGE: Because filth is good. Whaddaya think, rock stars have sponges and ammonia lyin\\x92 around the bathroom? They, have a woman comin\\x92 over, \\x93I\\x92ve gotta tidy up?\\x94 Yeah right, in these matters you never do what your instincts tell you. Always, ALWAYS do the opposite.',\n",
       " 'JERRY: This is how you operate?',\n",
       " 'GEORGE: Yeah, I wish.',\n",
       " 'JERRY: Let me just wipe the sink.',\n",
       " 'KESSLER: Why even give her an option for? ',\n",
       " '(Jerry walks to the bathroom and closes the door.)',\n",
       " 'KESSLER: (to George, pointing at the mattress) It\\x92s unbelievable.',\n",
       " 'GEORGE: Yeah.',\n",
       " 'KESSLER: How\\x92s the real estate-business?',\n",
       " 'GEORGE: (feeling awkward) It\\x92s uh, not bad, it\\x92s comin\\x92 along. Why? Did you need something.',\n",
       " 'KRAMER: Do you handle any of that commercial...real estate?',\n",
       " 'GEORGE: Well, I might be getting into that.',\n",
       " 'KESSLER: (slaps George on the arm) You keep me posted!',\n",
       " 'GEORGE: I\\x92m aware of you. (to Jerry) All right, let\\x92s go (opens the bathroom door) Let\\x92s go!',\n",
       " '(Jerry and the dog come out.)',\n",
       " 'INT. COMEDY CLUB - NIGHT',\n",
       " '(Jerry on stage; performing)',\n",
       " 'JERRY: The dating world is not a fun world...it\\x92s a pressure world, it\\x92s a world of tension, it\\x92s a world of pain...and you know, if a woman comes over to my house, I gotta get that bathroom ready, \\x91cause she needs things. Women need equipment. I don\\x92t know what they need. I know I don\\x92t have it, I know that- You know what they need, women seem to need a lot of cotton-balls. This is the one I\\x92m- always has been one of the amazing things to me...I have no cotton-balls, we\\x92re all human beings, what is the story? I\\x92ve never had one...I never bought one, I never needed one, I\\x92ve never been in a situation, when I thought to myself: \\x93I could use a cotton-ball right now.\\x94 I can certainly get out of this mess. Women need them and they don\\x92t need one or two, they need thousands of them, they need bags, they\\x92re like peat moss bags, have you ever seen these giant bags? They\\x92re huge and two days later, they\\x92re out, they\\x92re gone, the, the bag is empty, where are the cotton-balls, ladies? What are you doin\\x92 with them? The only time I ever see \\x91em is in the bottom of your little waste basket, there\\x92s two or three, that look like they\\x92ve been through some horrible experience... tortured, interrogated, I don\\x92t know what happened to them. I once went out with a girl who\\x92s left a little zip-lock-baggy of cotton-balls over at my house. I don\\x92t know what to do with them, I took them out, I put them on my kitchen floor like little tumbleweeds. I thought maybe the cockroaches would see it, figure this is a dead town. \\x93Let\\x92s move on.\\x94 The dating world is a world of pressure. Let\\x92s face it: a date is a job interview that lasts all night. The only difference between a date and a job interview is not many job interviews is there a chance you\\x92ll end up naked at the end of it. You know? \\x93Well, Bill, the boss thinks you\\x92re the man for the position, why don\\x92t you strip down and meet some of the people you\\x92ll be workin\\x92 with?\\x94 ',\n",
       " 'INT. AIRPORT \\x96 NIGHT',\n",
       " '(Jerry and George are waiting for Laura.)',\n",
       " 'JERRY: Wouldn\\x92t it be great if you could ask a woman what she\\x92s thinking?',\n",
       " 'GEORGE: What a world that would be, if you just could ask a woman what she\\x92s thinkin\\x92.',\n",
       " 'JERRY: You know, instead, I\\x92m like a detective. I gotta pick up clues, the whole thing is a murder investigation.',\n",
       " 'GEORGE: Listen, listen, don\\x92t get worked up, \\x91cause you\\x92re gonna know the whole story the minute she steps off the plane.',\n",
       " 'JERRY: Really? How?',\n",
       " 'GEORGE: \\x91Cause it\\x92s all in the greeting. ',\n",
       " 'JERRY: Uh-huh.',\n",
       " 'GEORGE: All right, if she puts the bags down before she greets you, that\\x92s a good sign.',\n",
       " 'JERRY: Right.',\n",
       " 'GEORGE: You know, anything in the, in the lip area is good.',\n",
       " 'JERRY: Lip area.',\n",
       " 'GEORGE: You know a hug: definitely good.',\n",
       " 'JERRY: Hug is definitely good.',\n",
       " 'GEORGE: Sure.',\n",
       " 'JERRY: Although what if it\\x92s one of those hugs where the shoulders are touching, the hips are eight feet apart?',\n",
       " 'GEORGE: That\\x92s so brutal, I hate that.',\n",
       " 'JERRY: You know how they do that?',\n",
       " 'GEORGE: That\\x92s why, you know, a shake is bad.',\n",
       " 'JERRY: Shake is bad, but what if it\\x92s the two-hander? The hand on the bottom, the hand on the top, the warm look in the eyes?',\n",
       " 'GEORGE: Hand sandwich.',\n",
       " 'JERRY: Right.',\n",
       " 'GEORGE: I see, well, that\\x92s open to interpretation. Because so much depends on the layering and the quality of the wetness in the eyes. ',\n",
       " '(A woman approaches Jerry from behind and puts her hands over Jerry\\x92s eyes.)',\n",
       " 'LAURA: Guess who?',\n",
       " 'JERRY: Hey, hey.',\n",
       " 'LAURA & JERRY: Heeeey!',\n",
       " '(They take each others hands and shake them around. George is looking puzzled.)',\n",
       " 'JERRY: It\\x92s good to see you.',\n",
       " 'LAURA: Hi.',\n",
       " 'JERRY: This is my friend George.',\n",
       " 'LAURA: Hi, how nice to meet you.',\n",
       " 'GEORGE: Hi, how are you?',\n",
       " 'JERRY: This is Laura.',\n",
       " 'GEORGE: Laura, sure.',\n",
       " 'JERRY: (to Laura) I can\\x92t believe you\\x92re here.',\n",
       " 'GEORGE & JERRY: Ooh yeah, the bags, sure. ',\n",
       " '(They pick up the bags.)',\n",
       " 'LAURA: Oh, thank you.',\n",
       " 'JERRY: (aside, to George) Now that was an interesting greeting, did you notice that, George?',\n",
       " 'GEORGE: Yes, the surprise blindfold greeting. That wasn\\x92t in the manual, I don\\x92t know.',\n",
       " 'INT. JERRY\\x92S APARTMENT \\x96 NIGHT',\n",
       " '(Jerry is in the midst of showing Laura the apartment.)',\n",
       " 'JERRY: So uh, what do you think?',\n",
       " 'LAURA: Ooohhh, wow! This place isn\\x92t so bad.',\n",
       " 'JERRY: Yeah, it kind a motivates me to work on the road. So uh, make yourself at home. (Laura sits down on the couch, takes off her shoes and opens some buttons of her shirt.) So uh, can I get you anything? Uuhhh, bread, water...salad-dressing?',\n",
       " 'LAURA: (laughs) Actually, um, do you have any wine?',\n",
       " 'JERRY: Uh, yeah, I think I do.',\n",
       " 'LAURA: (referring to a lamp) Oh, do you mind if I turn this down?',\n",
       " 'JERRY: Uh, no, yeah, go right ahead.',\n",
       " '(She turns down the lamp.)',\n",
       " 'LAURA: Uh, Jerry, uh, I was wandering, would it be possible \\x96 and if it\\x92s not, fine \\x96 for me to stay here tomorrow night too?',\n",
       " '(Jerry takes off his shoes to make himself comfortable)',\n",
       " 'JERRY: Uh, yeah, yeah, sure, why don\\x92t you stay? Yeah, uhm...What is your, what is your schedule for tomorrow? Are you, are you doin\\x92 anything?',\n",
       " 'LAURA: No, I\\x92d love to do something. Uh, I have my seminar in the morning, then after that I\\x92m right open.',\n",
       " 'JERRY: Really? What would you like to do?',\n",
       " 'LAURA: Well... now I know this sounds touristy, but I\\x92d just love to go on one of those five-hour boat rides around Manhattan.',\n",
       " 'JERRY: (unenthusiastic) Yeah, we could do that...why not, why not. (pouring the wine) I\\x92m just, I\\x92m really glad you\\x92re here.',\n",
       " '(The phone rings; he picks it up.)',\n",
       " 'JERRY: (answering) Yeah, hello...yes...yes, she is, hold on. (to Laura) Um, it\\x92s for you.',\n",
       " 'LAURA: (to the phone) Hello?... Hi!... No no it was great, right on time... No, I, I\\x92m gonna stay here tomorrow...yes, yes it\\x92s fine... No, we\\x92re goin\\x92 on a boat ride... Don\\x92t be silly... I\\x92m not gonna have this conversation... Look, I\\x92ll call you tomorrow... Okay, bye. (She hangs up the phone.) Never get engaged.',\n",
       " 'JERRY: (not excited) You\\x92re engaged?',\n",
       " 'LAURA: You, you really have no idea what it\\x92s like until you actually do it. And I\\x92m on this emotional roller coaster.',\n",
       " 'JERRY: You\\x92re engaged? ',\n",
       " 'LAURA: You know, I can\\x92t believe it myself sometimes. You have to start thinking in terms of \\x93we\\x94. Ugh, it\\x92s a very stressful situation.',\n",
       " 'JERRY: (matter-of-factly) You\\x92re engaged. ',\n",
       " 'LAURA: Yeah, yeah, he\\x92s a great guy...',\n",
       " 'JERRY: Yeah.',\n",
       " 'LAURA: You\\x92d really like him, you know, I can\\x92t wait to get on that boat.',\n",
       " 'JERRY: Me too!',\n",
       " 'INT. COMEDY CLUB \\x96 NIGHT',\n",
       " '(Jerry is on stage, performing.)',\n",
       " 'JERRY: I swear, I have absolutely no idea what women are thinking. I don\\x92t get it, okay? I, I, I admit, I, I\\x92m not getting the signals. I am not getting it! Women, they\\x92re so subtle, their little...everything they do is subtle. Men are not subtle, we are obvious. Women know what men want, men know what men want, what do we want? We want women, that\\x92s it! It\\x92s the only thing we know for sure, it really is. We want women. How do we get them? Oh, we don\\x92t know \\x91bout that, we don\\x92t know. The next step after that we have no idea. This is why you see men honking car-horns, yelling from construction sites. These are the best ideas we\\x92ve had so far. The car-horn honk, is that a beauty? Have you seen men doing this? What is this? The man is in the car, the woman walks by the front of the car, he honks. E-eeehh, eehhh, eehhh! This man is out of ideas. How does it...? E-e-e-eeeehhhh! \\x93I don\\x92t think she likes me.\\x94 The amazing thing is, that we still get women, don\\x92t we? Men, I mean, men are with women. You see men with women. How are men getting women, many people wonder. Let me tell you a little bit about our organization. Wherever women are, we have a man working on the situation right now. Now, he may not be our best man, okay, we have a lot of areas to cover, but someone from our staff is on the scene. That\\x92s why, I think, men get frustrated, when we see women reading articles, like: \\x93Where to meet men?\\x94 We\\x92re here, we are everywhere. We\\x92re honking our horns to serve you better.',\n",
       " 'The End',\n",
       " 'Copyright 2006 seinology.com | All Rights Reserved | Designed by 13erla']"
      ]
     },
     "execution_count": 187,
     "metadata": {},
     "output_type": "execute_result"
    }
   ],
   "source": [
    "list(filter(None, soup.find('body').text.replace('\\t', '').split('\\n')))"
   ]
  },
  {
   "cell_type": "code",
   "execution_count": 158,
   "metadata": {
    "collapsed": true
   },
   "outputs": [],
   "source": [
    "b = parse_episode_info(a)"
   ]
  },
  {
   "cell_type": "code",
   "execution_count": 162,
   "metadata": {
    "collapsed": false
   },
   "outputs": [
    {
     "data": {
      "text/plain": [
       "['Larry David', 'Jerry Seinfeld']"
      ]
     },
     "execution_count": 162,
     "metadata": {},
     "output_type": "execute_result"
    }
   ],
   "source": [
    "list(b['writers'])"
   ]
  },
  {
   "cell_type": "code",
   "execution_count": 119,
   "metadata": {
    "collapsed": false
   },
   "outputs": [
    {
     "ename": "AttributeError",
     "evalue": "'NoneType' object has no attribute 'groups'",
     "output_type": "error",
     "traceback": [
      "\u001b[0;31m---------------------------------------------------------------------------\u001b[0m",
      "\u001b[0;31mAttributeError\u001b[0m                            Traceback (most recent call last)",
      "\u001b[0;32m<ipython-input-119-29c97caea8c6>\u001b[0m in \u001b[0;36m<module>\u001b[0;34m()\u001b[0m\n\u001b[1;32m      1\u001b[0m \u001b[0ma\u001b[0m \u001b[0;34m=\u001b[0m \u001b[0mre\u001b[0m\u001b[0;34m.\u001b[0m\u001b[0msplit\u001b[0m\u001b[0;34m(\u001b[0m\u001b[0;34mr'={30}.*'\u001b[0m\u001b[0;34m,\u001b[0m \u001b[0mp\u001b[0m\u001b[0;34m[\u001b[0m\u001b[0;36m3\u001b[0m\u001b[0;34m]\u001b[0m\u001b[0;34m.\u001b[0m\u001b[0mtext\u001b[0m\u001b[0;34m)\u001b[0m\u001b[0;34m\u001b[0m\u001b[0m\n\u001b[0;32m----> 2\u001b[0;31m \u001b[0mepisode_info\u001b[0m \u001b[0;34m=\u001b[0m \u001b[0mparse_episode_info\u001b[0m\u001b[0;34m(\u001b[0m\u001b[0ma\u001b[0m\u001b[0;34m[\u001b[0m\u001b[0;36m0\u001b[0m\u001b[0;34m]\u001b[0m\u001b[0;34m)\u001b[0m\u001b[0;34m\u001b[0m\u001b[0m\n\u001b[0m\u001b[1;32m      3\u001b[0m \u001b[0ma\u001b[0m\u001b[0;34m[\u001b[0m\u001b[0;36m0\u001b[0m\u001b[0;34m]\u001b[0m\u001b[0;34m\u001b[0m\u001b[0m\n",
      "\u001b[0;32m<ipython-input-116-be30ad95752b>\u001b[0m in \u001b[0;36mparse_episode_info\u001b[0;34m(html)\u001b[0m\n\u001b[1;32m      4\u001b[0m     \u001b[0mepisode_num\u001b[0m \u001b[0;34m=\u001b[0m \u001b[0mint\u001b[0m\u001b[0;34m(\u001b[0m\u001b[0mgroups\u001b[0m\u001b[0;34m[\u001b[0m\u001b[0;36m1\u001b[0m\u001b[0;34m]\u001b[0m\u001b[0;34m)\u001b[0m\u001b[0;34m\u001b[0m\u001b[0m\n\u001b[1;32m      5\u001b[0m \u001b[0;34m\u001b[0m\u001b[0m\n\u001b[0;32m----> 6\u001b[0;31m     \u001b[0mtitle\u001b[0m \u001b[0;34m=\u001b[0m \u001b[0mre\u001b[0m\u001b[0;34m.\u001b[0m\u001b[0msearch\u001b[0m\u001b[0;34m(\u001b[0m\u001b[0;34mr'Episode \\d+(.*?) - (.*?)<'\u001b[0m\u001b[0;34m,\u001b[0m \u001b[0mhtml\u001b[0m\u001b[0;34m)\u001b[0m\u001b[0;34m.\u001b[0m\u001b[0mgroups\u001b[0m\u001b[0;34m(\u001b[0m\u001b[0;34m)\u001b[0m\u001b[0;34m[\u001b[0m\u001b[0;36m1\u001b[0m\u001b[0;34m]\u001b[0m\u001b[0;34m\u001b[0m\u001b[0m\n\u001b[0m\u001b[1;32m      7\u001b[0m     \u001b[0mdate\u001b[0m \u001b[0;34m=\u001b[0m \u001b[0mre\u001b[0m\u001b[0;34m.\u001b[0m\u001b[0msearch\u001b[0m\u001b[0;34m(\u001b[0m\u001b[0;34mr'Broadcast date: (.*?)<'\u001b[0m\u001b[0;34m,\u001b[0m \u001b[0mhtml\u001b[0m\u001b[0;34m)\u001b[0m\u001b[0;34m.\u001b[0m\u001b[0mgroups\u001b[0m\u001b[0;34m(\u001b[0m\u001b[0;34m)\u001b[0m\u001b[0;34m[\u001b[0m\u001b[0;36m0\u001b[0m\u001b[0;34m]\u001b[0m\u001b[0;34m\u001b[0m\u001b[0m\n\u001b[1;32m      8\u001b[0m     \u001b[0mwriters\u001b[0m \u001b[0;34m=\u001b[0m \u001b[0mre\u001b[0m\u001b[0;34m.\u001b[0m\u001b[0msearch\u001b[0m\u001b[0;34m(\u001b[0m\u001b[0;34mr'Written [bB]y:? (.*?)<'\u001b[0m\u001b[0;34m,\u001b[0m \u001b[0mhtml\u001b[0m\u001b[0;34m)\u001b[0m\u001b[0;34m.\u001b[0m\u001b[0mgroups\u001b[0m\u001b[0;34m(\u001b[0m\u001b[0;34m)\u001b[0m\u001b[0;34m[\u001b[0m\u001b[0;36m0\u001b[0m\u001b[0;34m]\u001b[0m\u001b[0;34m\u001b[0m\u001b[0m\n",
      "\u001b[0;31mAttributeError\u001b[0m: 'NoneType' object has no attribute 'groups'"
     ]
    }
   ],
   "source": [
    "a = re.split(r'={30}.*', p[3].text)\n",
    "episode_info = parse_episode_info(a[0])\n",
    "a[0]"
   ]
  },
  {
   "cell_type": "code",
   "execution_count": null,
   "metadata": {
    "collapsed": true
   },
   "outputs": [],
   "source": []
  },
  {
   "cell_type": "code",
   "execution_count": 141,
   "metadata": {
    "collapsed": false
   },
   "outputs": [
    {
     "data": {
      "text/plain": [
       "['Episode 1 - Good News, Bad News',\n",
       " '',\n",
       " 'pc: 101, season 1, episode 1 (Pilot)',\n",
       " '',\n",
       " 'Broadcast date: July 5, 1989',\n",
       " '',\n",
       " '(The series is titled The Seinfeld Chronicles, then re-titled Seinfeld for the rest of the series)',\n",
       " '',\n",
       " '',\n",
       " 'Written By Larry David & Jerry Seinfeld',\n",
       " '',\n",
       " 'Directed By Art Wolff',\n",
       " '',\n",
       " '',\n",
       " '-------------------------------------------------------------------------------',\n",
       " '',\n",
       " '',\n",
       " 'The Cast',\n",
       " '',\n",
       " 'Regulars:',\n",
       " '',\n",
       " 'Jerry Seinfeld ....................... Jerry Seinfeld',\n",
       " '',\n",
       " 'Jason Alexander .................. George Costanza',\n",
       " '',\n",
       " 'Michael Richards ................. Kessler',\n",
       " '',\n",
       " '',\n",
       " 'Guest Stars:',\n",
       " '',\n",
       " '',\n",
       " 'Lee Garlington ................ Claire',\n",
       " '',\n",
       " 'Pamela Brull ..................... Laura',\n",
       " '',\n",
       " '',\n",
       " '',\n",
       " '']"
      ]
     },
     "execution_count": 141,
     "metadata": {},
     "output_type": "execute_result"
    }
   ],
   "source": [
    "a[0].replace('\\t', '').split('\\n')"
   ]
  },
  {
   "cell_type": "code",
   "execution_count": 87,
   "metadata": {
    "collapsed": false
   },
   "outputs": [],
   "source": [
    "all_text = p[3].text.replace('\\t', '').strip().split('\\n')"
   ]
  },
  {
   "cell_type": "code",
   "execution_count": 72,
   "metadata": {
    "collapsed": true
   },
   "outputs": [],
   "source": [
    "episode_no = all_text[0].split('-')[0].strip()\n",
    "episode_name = all_text[0].split('-')[1].strip()"
   ]
  },
  {
   "cell_type": "code",
   "execution_count": 75,
   "metadata": {
    "collapsed": false
   },
   "outputs": [
    {
     "data": {
      "text/plain": [
       "'Episode 1'"
      ]
     },
     "execution_count": 75,
     "metadata": {},
     "output_type": "execute_result"
    }
   ],
   "source": [
    "episode_no"
   ]
  },
  {
   "cell_type": "code",
   "execution_count": 98,
   "metadata": {
    "collapsed": false
   },
   "outputs": [],
   "source": [
    "str_list = list(filter(None, all_text))"
   ]
  },
  {
   "cell_type": "code",
   "execution_count": 99,
   "metadata": {
    "collapsed": false
   },
   "outputs": [
    {
     "data": {
      "text/plain": [
       "['Episode 1 - Good News, Bad News',\n",
       " 'pc: 101, season 1, episode 1 (Pilot)',\n",
       " 'Broadcast date: July 5, 1989',\n",
       " '(The series is titled The Seinfeld Chronicles, then re-titled Seinfeld for the rest of the series)',\n",
       " 'Written By Larry David & Jerry Seinfeld',\n",
       " 'Directed By Art Wolff',\n",
       " '-------------------------------------------------------------------------------',\n",
       " 'The Cast',\n",
       " 'Regulars:',\n",
       " 'Jerry Seinfeld ....................... Jerry Seinfeld',\n",
       " 'Jason Alexander .................. George Costanza',\n",
       " 'Michael Richards ................. Kessler',\n",
       " 'Guest Stars:',\n",
       " 'Lee Garlington ................ Claire',\n",
       " 'Pamela Brull ..................... Laura',\n",
       " '==================================================================',\n",
       " 'INT. COMEDY CLUB \\x96 NIGHT',\n",
       " '(Jerry is on stage, performing.)',\n",
       " 'JERRY: Do you know what this is all about? Do you know, why we\\x92re here? To be out, this is out...and out is one of the single most enjoyable experiences of life. People...did you ever hear people talking about \\x93We should go out\\x94? This is what they\\x92re talking about...this whole thing, we\\x92re all out now, no one is home. Not one person here is home, we\\x92re all out! There are people tryin\\x92 to find us, they don\\x92t know where we are. (on an imaginary phone) \\x93Did you ring?, I can\\x92t find him.\\x94 \\x93Where did he go?\\x94 \\x93He didn\\x92t tell me where he was going\\x94. He must have gone out. You wanna go out: you get ready, you pick out the clothes, right? You take the shower, you get all ready, get the cash, get your friends, the car, the spot, the reservation...Then you\\x92re standing around, whatta you do? You go: \\x93We gotta be getting back\\x94. Once you\\x92re out, you wanna get back! You wanna go to sleep, you wanna get up, you wanna go out again tomorrow, right? Where ever you are in life, it\\x92s my feeling, you\\x92ve gotta go.',\n",
       " 'INT. PETE\\x92S LUNCHEONETTE \\x96 DAY',\n",
       " '(Jerry and George sit at a table, having coffee.)',\n",
       " 'JERRY: (pointing at George\\x92s shirt) See, to me, that button is in the worst possible spot. The second button literally makes or breaks the shirt, look at it. It\\x92s too high! It\\x92s in no-man\\x92s-land. You look like you live with your mother.',\n",
       " 'GEORGE: Are you through? ',\n",
       " 'JERRY: You do of course try on, when you buy?',\n",
       " 'GEORGE: Yes, it was purple, I liked it, I don\\x92t actually recall considering the buttons.',\n",
       " 'JERRY: Oh, you don\\x92t recall?',\n",
       " 'GEORGE: (on an imaginary microphone) Uh, no, not at this time.',\n",
       " 'JERRY: Well, senator, I\\x92d just like to know, what you knew and when you knew it.',\n",
       " '(A waitress, Claire, approaches the table. She pours refills Jerry\\x92s coffee.)',\n",
       " 'CLAIRE: Mr. Seinfeld. Mr. Costanza. ',\n",
       " '(Claire tries to refill George\\x92s coffee, but George blocks her.)',\n",
       " 'GEORGE: Are, are you sure this is decaf? Where\\x92s the orange indicator?',\n",
       " 'CLAIRE: It\\x92s missing, I have to do it in my head: decaf left, regular right, decaf left, regular right...it\\x92s very challenging work.',\n",
       " 'JERRY: Can you relax, it\\x92s a cup of coffee. Claire is a professional waitress.',\n",
       " 'CLAIRE: Trust me George. No one has any interest in seeing you on caffeine.',\n",
       " '(Claire exits.)',\n",
       " 'GEORGE: How come you\\x92re not doin\\x92 the second show tomorrow?',\n",
       " 'JERRY: Well, there\\x92s this uh, woman might be comin\\x92 in.',\n",
       " 'GEORGE: Wait a second, wait a second, what coming in, what woman is coming in?',\n",
       " 'JERRY: I told you about Laura, the girl I met in Michigan?',\n",
       " 'GEORGE: No, you didn\\x92t!',\n",
       " 'JERRY: I thought I told you about it, yes, she teaches political science? I met her the night I did the show in Lansing... ',\n",
       " 'GEORGE: Ha.',\n",
       " 'JERRY: (looks in the creamer) There\\x92s no milk in here, what...',\n",
       " 'GEORGE: Wait wait wait, what is she... (takes the milk can from Jerry and puts it on the table) What is she like?',\n",
       " 'JERRY: Oh, she\\x92s really great. I mean, she\\x92s got like a real warmth about her and she\\x92s really bright and really pretty and uh... the conversation though, I mean, it was... talking with her is like talking with you, but, you know, obviously much better.',\n",
       " 'GEORGE: (smiling) So, you know, what, what happened?',\n",
       " 'JERRY: Oh, nothing happened, you know, but is was great.',\n",
       " 'GEORGE: Oh, nothing happened, but it was...',\n",
       " 'JERRY: Yeah.',\n",
       " 'GEORGE: This is great!',\n",
       " 'JERRY: Yeah.',\n",
       " 'GEORGE: So, you know, she calls and says she wants to go out with you tomorrow night? God bless! Devil you!',\n",
       " 'JERRY: Yeah, well...not exactly. I mean, she said, you know, she called this morning and said she had to come in for a seminar and maybe we\\x92ll get together. ',\n",
       " 'GEORGE: (whistles disapprovingly) Ho ho ho, \\x91Had to\\x92? \\x91Had to\\x92 come in?',\n",
       " 'JERRY: Yeah, but...',\n",
       " 'GEORGE: \\x91Had to come in\\x92 and \\x91maybe we\\x92ll get together\\x92? \\x91Had to\\x92 and \\x91maybe\\x92?',\n",
       " 'JERRY: Yeah!',\n",
       " 'GEORGE: No...no...no, I hate to tell you this. You\\x92re not gonna see this woman.',\n",
       " 'JERRY: What, are you serious...why, why did she call?',\n",
       " 'GEORGE: How do I know, maybe, you know, maybe she wanted to be polite. ',\n",
       " 'JERRY: To be polite? You are insane!',\n",
       " 'GEORGE: All right, all right, I didn\\x92t want to tell you this. You wanna know why she called you?',\n",
       " 'JERRY: Yes!',\n",
       " 'GEORGE: You\\x92re a back-up, you\\x92re a second-line, a just-in-case, a B-plan, a contingency!',\n",
       " 'JERRY: Oh, I get it, this is about the button.',\n",
       " '(Claire passes the table; George stops her and writes something on his notepad.)',\n",
       " 'GEORGE: Claire, Claire, you\\x92re a woman, right?',\n",
       " 'CLAIRE: What gave it away, George?',\n",
       " 'GEORGE: Uhm...I\\x92d like to ask you...ask you to analyze a hypothetical phone call, you know, from a female point of view.',\n",
       " 'JERRY (to George) Oh, come on now, what are you asking her? Now, how is she gonna know?',\n",
       " 'GEORGE: (to Claire) Now, a woman calls me, all right? ',\n",
       " 'CLAIE: Uh huh.',\n",
       " 'GEORGE: She says she \\x91has to\\x92 come to New York on business...',\n",
       " 'JERRY: Oh you are beautiful!',\n",
       " 'GEORGE: ...and, and \\x91maybe\\x92 she\\x92ll see me when she gets there, does this woman intend to spend time with me?',\n",
       " 'CLAIRE: I\\x92d have to say, uuhh, no. ',\n",
       " '(George shows his note-block to Jerry; it says very largely: NO.)',\n",
       " 'GEORGE (to Claire) So why did she call?',\n",
       " 'CLAIRE: To be polite.',\n",
       " 'GEORGE: To be polite. I rest my case.',\n",
       " 'JERRY: Good. Did you have fun? You have no idea, what you\\x92re talking about, now, come on, come with me. (stands up) I gotta go get my stuff out of the dryer anyway.',\n",
       " 'GEORGE: I\\x92m not gonna watch you do laundry.',\n",
       " 'JERRY: Oh, come on, be a come-with guy.',\n",
       " 'GEORGE: Come on, I\\x92m tired.',\n",
       " 'CLAIRE: (to Jerry) Don\\x92t worry, I gave him a little caffeine. He\\x92ll perk up.',\n",
       " 'GEORGE: (panicking) Right, I knew I felt something!',\n",
       " '(Claire exits, smiling.)',\n",
       " 'INT. LAUNDRAMAT - DAY',\n",
       " '(Jerry and George are there; George is staring at one of the dryers.)',\n",
       " 'GEORGE: Jerry? I have to tell you something. This is the dullest moment I\\x92ve ever experienced. ',\n",
       " '(George walks away from the dryer. A man passes by.)',\n",
       " 'JERRY: Well, look at this guy. Look, he\\x92s got everything, he\\x92s got detergents, sprays, fabric softeners.  This is not his first load.',\n",
       " 'GEORGE: I need a break, Jerry, you know. I gotta get out of the city. I feel so cramped...',\n",
       " 'JERRY: And you didn\\x92t even hear how she sounded.',\n",
       " 'GEORGE: What?!',\n",
       " 'JERRY: Laura.',\n",
       " 'GEORGE: I can\\x92t believe- (falls on his knees) WE ALREADY DISCUSSED THIS!',\n",
       " 'JERRY: Yeah, but how could you be so sure?',\n",
       " 'GEORGE: \\x91Cause it\\x92s signals, Jerry, it\\x92s signals! (snapping his fingers) Don\\x92t you- all right. Did she even ask you, what you were doin\\x92 tomorrow night, if you were busy?',\n",
       " 'JERRY: No.',\n",
       " 'GEORGE: She calls you today and she doesn\\x92t make a plan for tomorrow? What is that? It\\x92s Saturday night!',\n",
       " 'JERRY: Yeah.',\n",
       " 'GEORGE: What is that? It\\x92s ridiculous! You don\\x92t even know what hotel she\\x92s staying at, you can\\x92t call her. That\\x92s a signal, Jerry, that\\x92s a signal! (snaps his fingers) Signal!',\n",
       " 'JERRY: Maybe you\\x92re right.',\n",
       " 'GEORGE: Maybe I\\x92m right? Of course I\\x92m right.',\n",
       " 'JERRY: This is insane. You know, I don\\x92t even know where she\\x92s staying! She, she\\x92s not gonna call me, this is unbelievable.',\n",
       " '(George puts his arm around Jerry.)',\n",
       " 'GEORGE: I know, I know. Listen, your stuff has to be done by now, why don\\x92t you just see if it\\x92s dry?',\n",
       " 'JERRY: No no no, don\\x92t interrupt the cycle. The machine is working, it, it knows what it\\x92s doing. Just let it finish.',\n",
       " 'GEORGE: You\\x92re gonna overdry it.',\n",
       " 'JERRY: You, you can\\x92t overdry.',\n",
       " 'GEORGE: Why not?',\n",
       " 'JERRY: Same as you can\\x92t overwet. You see, once something is wet, it\\x92s wet. Same thing with death. Like once you die you\\x92re dead, right? Let\\x92s say you drop dead and I shoot you. You\\x92re not gonna die again, you\\x92re already dead. You can\\x92t overdie, you can\\x92t overdry.',\n",
       " 'GEORGE: (to the other laundry patrons) Any questions?',\n",
       " 'JERRY: How could she not tell me where she was staying? ',\n",
       " '(George stands by the dryer again and secretly opens it. The dryer stops working and he closes the lid.)',\n",
       " 'GEORGE: Look at that. They\\x92re done! ',\n",
       " 'INT. COMEDY CLUB \\x96 NIGHT',\n",
       " '(Jerry is on stage, peforming.)',\n",
       " 'JERRY: Laundry day is the only exciting day in the life of clothes. It is...y\\x92know, think about it. The washing machine is the nightclub of clothes. You know, it\\x92s dark, there\\x92s bubbles happening, they\\x92re all kinda dancing around in there- shirt grabs the underwear, \\x93C\\x92mon babe, let\\x92s go\\x94. You come by, you open up the lid and they\\x92ll- (stiffens up, as the clothes) Socks are the most amazing article of clothing. They hate their lives, they\\x92re in the shoes with stinky feet, the boring drawers. The dryer is their only chance to escape and they all know it. They knew a escape from the dryer. They plan it in the hamper the night before, \\x93Tomorrow, the dryer, I\\x92m goin\\x92. You wait here!\\x94 The dryer door swings open and the sock is waiting up against the side wall. He hopes you don\\x92t see him and then he goes down the road. They get buttons sewn on their faces, join a puppet show. So they\\x92re showing me on television the detergent for getting out bloodstains. Is this a violent image to anybody? Bloodstains? I mean, come on, you got a T-shirt with bloodstains all over it, maybe laundry isn\\x92t your biggest problem right now. You gotta get the harpoon out your chest first. ',\n",
       " 'INT. JERRY\\x92S APARTMENT',\n",
       " '(Jerry is on the couch, watching TV. The phone rings. He picks up the reciever.)',\n",
       " 'JERRY: (answering, quickly) If you know what happened in the Met game, don\\x92t say anything, I taped it, hello. Yeah, no, I\\x92m sorry, you have the wrong number. Yeah, no ',\n",
       " '(There\\x92s a knock at the door.)',\n",
       " 'JERRY: (to the door) Yeah?',\n",
       " '(Kessler enters.)',\n",
       " 'KESSLER: Are you up?',\n",
       " 'JERRY: (to Kessler) Yeah. (to the phone) Yeah, people do move. Have you ever seen the big trucks out on the street? Yeah, no problem.',\n",
       " '(Jerry hangs up.)',\n",
       " 'KESSLER: Boy, the Mets blew it tonight, huh? ',\n",
       " 'JERRY: (upset) Ohhhh, what are you doing? Kessler, it\\x92s a tape! I taped the game, it\\x92s one o\\x92clock in the morning! I avoided human contact all night to watch this.',\n",
       " 'KESSLER: Hey, I\\x92m sorry, I- you know, I, I thought you knew. (takes two loaves of bread out of his pockets, and holds them out to Jerry.) You got any meat?',\n",
       " 'JERRY: Meat? I don\\x92t, I don\\x92t know, go... hunt! (Kessler opens the refrigerator and sticks his head in.) Well what happened in the game anyway?',\n",
       " 'KESSLER: (from the refrigerator) What happened? Well, they STUNK, that\\x92s what happened!',\n",
       " '(He takes some meat from the refrigerator and closes it.)',\n",
       " 'KESSLER: You know, I almost wound up going to that game.',\n",
       " 'JERRY: (cynical) Yeah you almost went to the game. You haven\\x92t been out of the building in ten years!',\n",
       " 'KESSLER: Yeah. (Jerry sits down on the couch. Kessler walks over with his sandwich and looks at Jerry and uses expressions to ask Jerry to move the newspapers on the other side of the couch so he could site down. Kessler sits down next to him and starts turning over the pages of a magazine. Suddenly he spots an article he likes and tears it out. Jerry gives him a look as if to say, \\x93Do you mind?\\x94) Are you done with this?',\n",
       " 'JERRY: No.',\n",
       " '(Kessler glues the article back with his own saliva and puts the magazine back on the table.)',\n",
       " 'KESSLER: When you\\x92re done, let me know.',\n",
       " 'JERRY: Yeah, yeah...you can have it tomorrow.',\n",
       " 'KESSLER: I thought I wasn\\x92t allowed to be in here this weekend.',\n",
       " 'JERRY: No, it\\x92s okay now, that, that girl is not comin\\x92. Uh, I misread the whole thing.',\n",
       " 'KESSLER: You want me to talk to her?',\n",
       " 'JERRY: I don\\x92t think so.',\n",
       " 'KESSLER: Oh, I can be very persuasive. Do you know that I was almost... a lawyer.',\n",
       " '(Kessler shows with his fingers how close he was.)',\n",
       " 'JERRY: That close, huh?',\n",
       " 'KESSLER: You better believe it.',\n",
       " '(The phone rings. Jerry picks it up.)',\n",
       " 'JERRY: Hello...Oh, hi, Laura.',\n",
       " 'KESSLER: Oh, give me it...let me talk to her.',\n",
       " 'JERRY: (to the phone) No believe me, I\\x92m always up at this hour. How are you?... Great... Sure... What time does the plane get in?... I got my friend George to take me...',\n",
       " 'KESSLER: (to the TV) SLIDE! Wow!',\n",
       " 'JERRY: No, it\\x92s, it\\x92s just my neighbour... Um... Yeah, I got it. (Jerry takes a pencil and a cereal box to write on.) Ten-fifteen... No, don\\x92t be silly, go ahead and ask... Yeah, sure... Okay, great, no no, it\\x92s no trouble at all... I\\x92ll see you tomorrow... Great, bye. (He hangs up the phone; to Kessler) I don\\x92t believe it. That was her. She wants to stay here! ',\n",
       " 'INT. JERRY\\x92S APARTMENT \\x96 NIGHT',\n",
       " '(Jerry and George enter, carrying a heavy mattress.)',\n",
       " \"JERRY: If my father was moving this he\\x92d had to have a cigarette in his mouth the whole way. (as his father) 'Have you got your end?...Your end\\x92s got to come down first, easy now, drop it down...drop it down, your end\\x92s got to come down.'\",\n",
       " 'GEORGE: You know, I can\\x92t believe you\\x92re bringin\\x92 in an extra bed for woman that wants to sleep with you. Why don\\x92t you bring in an extra guy too?',\n",
       " '(George takes a seat. Jerry hands him a beer.)',\n",
       " 'JERRY: Look, it\\x92s a very awkward situation. I don\\x92t wanna be presumptuous.',\n",
       " 'GEORGE: All right, all right, one more time, one more time! What was the exact phrasing of the request?',\n",
       " 'JERRY: All right, she said she couldn\\x92t find a decent hotel room...',\n",
       " 'GEORGE: A decent hotel-room...',\n",
       " 'JERRY: Yeah, a decent hotel-room, would it be terribly inconvenient if she stayed at my place.',\n",
       " 'GEORGE: You can\\x92t be serious. This is New York city. There must be eleven million decent hotel rooms! Whatta you need? A flag? (waving his handkerchief) This is the signal, Jerry, this is the signal! ',\n",
       " 'JERRY: (cynical) This is the signal? Thank you, Mr. Signal. Where were you yesterday?',\n",
       " 'GEORGE: I think I was affected by the caffeine. ',\n",
       " '(Suddenly a dog enters the apartment and jumps George on the couch.)',\n",
       " 'GEORGE: Ho, ho, ho, good dog, good dog...',\n",
       " '(Kessler enters and closes the door.)',\n",
       " 'KESSLER: Hey, he really likes you, George.',\n",
       " 'GEORGE: Well, that\\x92s flattering. ',\n",
       " '(The dog heads for the bathroom and starts drinking from the toilet.)',\n",
       " 'KESSLER: Oh, he\\x92s gettin\\x92 a drink of water. (pointing to the mattress) Is this for that girl?',\n",
       " 'JERRY: Yeah.',\n",
       " 'KESSLER: Why even give her an option?',\n",
       " 'JERRY: This is a person I like, it\\x92s not \\x93How to score on spring break\\x94.',\n",
       " 'GEORGE: Right, can we go? \\x91Cause I\\x92m double-parked, I\\x92m gonna get a ticket.',\n",
       " 'JERRY: Yeah, okay. Oh, wait a second. Oh, I forgot to clean the bathroom.',\n",
       " 'GEORGE: So what? That\\x92s good.',\n",
       " 'JERRY: Now, how could that be good?',\n",
       " 'GEORGE: Because filth is good. Whaddaya think, rock stars have sponges and ammonia lyin\\x92 around the bathroom? They, have a woman comin\\x92 over, \\x93I\\x92ve gotta tidy up?\\x94 Yeah right, in these matters you never do what your instincts tell you. Always, ALWAYS do the opposite.',\n",
       " 'JERRY: This is how you operate?',\n",
       " 'GEORGE: Yeah, I wish.',\n",
       " 'JERRY: Let me just wipe the sink.',\n",
       " 'KESSLER: Why even give her an option for? ',\n",
       " '(Jerry walks to the bathroom and closes the door.)',\n",
       " 'KESSLER: (to George, pointing at the mattress) It\\x92s unbelievable.',\n",
       " 'GEORGE: Yeah.',\n",
       " 'KESSLER: How\\x92s the real estate-business?',\n",
       " 'GEORGE: (feeling awkward) It\\x92s uh, not bad, it\\x92s comin\\x92 along. Why? Did you need something.',\n",
       " 'KRAMER: Do you handle any of that commercial...real estate?',\n",
       " 'GEORGE: Well, I might be getting into that.',\n",
       " 'KESSLER: (slaps George on the arm) You keep me posted!',\n",
       " 'GEORGE: I\\x92m aware of you. (to Jerry) All right, let\\x92s go (opens the bathroom door) Let\\x92s go!',\n",
       " '(Jerry and the dog come out.)',\n",
       " 'INT. COMEDY CLUB - NIGHT',\n",
       " '(Jerry on stage; performing)',\n",
       " 'JERRY: The dating world is not a fun world...it\\x92s a pressure world, it\\x92s a world of tension, it\\x92s a world of pain...and you know, if a woman comes over to my house, I gotta get that bathroom ready, \\x91cause she needs things. Women need equipment. I don\\x92t know what they need. I know I don\\x92t have it, I know that- You know what they need, women seem to need a lot of cotton-balls. This is the one I\\x92m- always has been one of the amazing things to me...I have no cotton-balls, we\\x92re all human beings, what is the story? I\\x92ve never had one...I never bought one, I never needed one, I\\x92ve never been in a situation, when I thought to myself: \\x93I could use a cotton-ball right now.\\x94 I can certainly get out of this mess. Women need them and they don\\x92t need one or two, they need thousands of them, they need bags, they\\x92re like peat moss bags, have you ever seen these giant bags? They\\x92re huge and two days later, they\\x92re out, they\\x92re gone, the, the bag is empty, where are the cotton-balls, ladies? What are you doin\\x92 with them? The only time I ever see \\x91em is in the bottom of your little waste basket, there\\x92s two or three, that look like they\\x92ve been through some horrible experience... tortured, interrogated, I don\\x92t know what happened to them. I once went out with a girl who\\x92s left a little zip-lock-baggy of cotton-balls over at my house. I don\\x92t know what to do with them, I took them out, I put them on my kitchen floor like little tumbleweeds. I thought maybe the cockroaches would see it, figure this is a dead town. \\x93Let\\x92s move on.\\x94 The dating world is a world of pressure. Let\\x92s face it: a date is a job interview that lasts all night. The only difference between a date and a job interview is not many job interviews is there a chance you\\x92ll end up naked at the end of it. You know? \\x93Well, Bill, the boss thinks you\\x92re the man for the position, why don\\x92t you strip down and meet some of the people you\\x92ll be workin\\x92 with?\\x94 ',\n",
       " 'INT. AIRPORT \\x96 NIGHT',\n",
       " '(Jerry and George are waiting for Laura.)',\n",
       " 'JERRY: Wouldn\\x92t it be great if you could ask a woman what she\\x92s thinking?',\n",
       " 'GEORGE: What a world that would be, if you just could ask a woman what she\\x92s thinkin\\x92.',\n",
       " 'JERRY: You know, instead, I\\x92m like a detective. I gotta pick up clues, the whole thing is a murder investigation.',\n",
       " 'GEORGE: Listen, listen, don\\x92t get worked up, \\x91cause you\\x92re gonna know the whole story the minute she steps off the plane.',\n",
       " 'JERRY: Really? How?',\n",
       " 'GEORGE: \\x91Cause it\\x92s all in the greeting. ',\n",
       " 'JERRY: Uh-huh.',\n",
       " 'GEORGE: All right, if she puts the bags down before she greets you, that\\x92s a good sign.',\n",
       " 'JERRY: Right.',\n",
       " 'GEORGE: You know, anything in the, in the lip area is good.',\n",
       " 'JERRY: Lip area.',\n",
       " 'GEORGE: You know a hug: definitely good.',\n",
       " 'JERRY: Hug is definitely good.',\n",
       " 'GEORGE: Sure.',\n",
       " 'JERRY: Although what if it\\x92s one of those hugs where the shoulders are touching, the hips are eight feet apart?',\n",
       " 'GEORGE: That\\x92s so brutal, I hate that.',\n",
       " 'JERRY: You know how they do that?',\n",
       " 'GEORGE: That\\x92s why, you know, a shake is bad.',\n",
       " 'JERRY: Shake is bad, but what if it\\x92s the two-hander? The hand on the bottom, the hand on the top, the warm look in the eyes?',\n",
       " 'GEORGE: Hand sandwich.',\n",
       " 'JERRY: Right.',\n",
       " 'GEORGE: I see, well, that\\x92s open to interpretation. Because so much depends on the layering and the quality of the wetness in the eyes. ',\n",
       " '(A woman approaches Jerry from behind and puts her hands over Jerry\\x92s eyes.)',\n",
       " 'LAURA: Guess who?',\n",
       " 'JERRY: Hey, hey.',\n",
       " 'LAURA & JERRY: Heeeey!',\n",
       " '(They take each others hands and shake them around. George is looking puzzled.)',\n",
       " 'JERRY: It\\x92s good to see you.',\n",
       " 'LAURA: Hi.',\n",
       " 'JERRY: This is my friend George.',\n",
       " 'LAURA: Hi, how nice to meet you.',\n",
       " 'GEORGE: Hi, how are you?',\n",
       " 'JERRY: This is Laura.',\n",
       " 'GEORGE: Laura, sure.',\n",
       " 'JERRY: (to Laura) I can\\x92t believe you\\x92re here.',\n",
       " 'GEORGE & JERRY: Ooh yeah, the bags, sure. ',\n",
       " '(They pick up the bags.)',\n",
       " 'LAURA: Oh, thank you.',\n",
       " 'JERRY: (aside, to George) Now that was an interesting greeting, did you notice that, George?',\n",
       " 'GEORGE: Yes, the surprise blindfold greeting. That wasn\\x92t in the manual, I don\\x92t know.',\n",
       " 'INT. JERRY\\x92S APARTMENT \\x96 NIGHT',\n",
       " '(Jerry is in the midst of showing Laura the apartment.)',\n",
       " 'JERRY: So uh, what do you think?',\n",
       " 'LAURA: Ooohhh, wow! This place isn\\x92t so bad.',\n",
       " 'JERRY: Yeah, it kind a motivates me to work on the road. So uh, make yourself at home. (Laura sits down on the couch, takes off her shoes and opens some buttons of her shirt.) So uh, can I get you anything? Uuhhh, bread, water...salad-dressing?',\n",
       " 'LAURA: (laughs) Actually, um, do you have any wine?',\n",
       " 'JERRY: Uh, yeah, I think I do.',\n",
       " 'LAURA: (referring to a lamp) Oh, do you mind if I turn this down?',\n",
       " 'JERRY: Uh, no, yeah, go right ahead.',\n",
       " '(She turns down the lamp.)',\n",
       " 'LAURA: Uh, Jerry, uh, I was wandering, would it be possible \\x96 and if it\\x92s not, fine \\x96 for me to stay here tomorrow night too?',\n",
       " '(Jerry takes off his shoes to make himself comfortable)',\n",
       " 'JERRY: Uh, yeah, yeah, sure, why don\\x92t you stay? Yeah, uhm...What is your, what is your schedule for tomorrow? Are you, are you doin\\x92 anything?',\n",
       " 'LAURA: No, I\\x92d love to do something. Uh, I have my seminar in the morning, then after that I\\x92m right open.',\n",
       " 'JERRY: Really? What would you like to do?',\n",
       " 'LAURA: Well... now I know this sounds touristy, but I\\x92d just love to go on one of those five-hour boat rides around Manhattan.',\n",
       " 'JERRY: (unenthusiastic) Yeah, we could do that...why not, why not. (pouring the wine) I\\x92m just, I\\x92m really glad you\\x92re here.',\n",
       " '(The phone rings; he picks it up.)',\n",
       " 'JERRY: (answering) Yeah, hello...yes...yes, she is, hold on. (to Laura) Um, it\\x92s for you.',\n",
       " 'LAURA: (to the phone) Hello?... Hi!... No no it was great, right on time... No, I, I\\x92m gonna stay here tomorrow...yes, yes it\\x92s fine... No, we\\x92re goin\\x92 on a boat ride... Don\\x92t be silly... I\\x92m not gonna have this conversation... Look, I\\x92ll call you tomorrow... Okay, bye. (She hangs up the phone.) Never get engaged.',\n",
       " 'JERRY: (not excited) You\\x92re engaged?',\n",
       " 'LAURA: You, you really have no idea what it\\x92s like until you actually do it. And I\\x92m on this emotional roller coaster.',\n",
       " 'JERRY: You\\x92re engaged? ',\n",
       " 'LAURA: You know, I can\\x92t believe it myself sometimes. You have to start thinking in terms of \\x93we\\x94. Ugh, it\\x92s a very stressful situation.',\n",
       " 'JERRY: (matter-of-factly) You\\x92re engaged. ',\n",
       " 'LAURA: Yeah, yeah, he\\x92s a great guy...',\n",
       " 'JERRY: Yeah.',\n",
       " 'LAURA: You\\x92d really like him, you know, I can\\x92t wait to get on that boat.',\n",
       " 'JERRY: Me too!',\n",
       " 'INT. COMEDY CLUB \\x96 NIGHT',\n",
       " '(Jerry is on stage, performing.)',\n",
       " 'JERRY: I swear, I have absolutely no idea what women are thinking. I don\\x92t get it, okay? I, I, I admit, I, I\\x92m not getting the signals. I am not getting it! Women, they\\x92re so subtle, their little...everything they do is subtle. Men are not subtle, we are obvious. Women know what men want, men know what men want, what do we want? We want women, that\\x92s it! It\\x92s the only thing we know for sure, it really is. We want women. How do we get them? Oh, we don\\x92t know \\x91bout that, we don\\x92t know. The next step after that we have no idea. This is why you see men honking car-horns, yelling from construction sites. These are the best ideas we\\x92ve had so far. The car-horn honk, is that a beauty? Have you seen men doing this? What is this? The man is in the car, the woman walks by the front of the car, he honks. E-eeehh, eehhh, eehhh! This man is out of ideas. How does it...? E-e-e-eeeehhhh! \\x93I don\\x92t think she likes me.\\x94 The amazing thing is, that we still get women, don\\x92t we? Men, I mean, men are with women. You see men with women. How are men getting women, many people wonder. Let me tell you a little bit about our organization. Wherever women are, we have a man working on the situation right now. Now, he may not be our best man, okay, we have a lot of areas to cover, but someone from our staff is on the scene. That\\x92s why, I think, men get frustrated, when we see women reading articles, like: \\x93Where to meet men?\\x94 We\\x92re here, we are everywhere. We\\x92re honking our horns to serve you better.',\n",
       " 'The End']"
      ]
     },
     "execution_count": 99,
     "metadata": {},
     "output_type": "execute_result"
    }
   ],
   "source": [
    "str_list"
   ]
  },
  {
   "cell_type": "code",
   "execution_count": 30,
   "metadata": {
    "collapsed": false
   },
   "outputs": [
    {
     "name": "stdout",
     "output_type": "stream",
     "text": [
      "JERRY: Do you know what this is all about? Do you know, why were here? To be out, this is out...and out is one of the single most enjoyable experiences of life. People...did you ever hear people talking about We should go out? This is what theyre talking about...this whole thing, were all out now, no one is home. Not one person here is home, were all out! There are people tryin to find us, they dont know where we are. (on an imaginary phone) Did you ring?, I cant find him. Where did he go? He didnt tell me where he was going. He must have gone out. You wanna go out: you get ready, you pick out the clothes, right? You take the shower, you get all ready, get the cash, get your friends, the car, the spot, the reservation...Then youre standing around, whatta you do? You go: We gotta be getting back. Once youre out, you wanna get back! You wanna go to sleep, you wanna get up, you wanna go out again tomorrow, right? Where ever you are in life, its my feeling, youve gotta go.\n"
     ]
    }
   ],
   "source": [
    "a[2]"
   ]
  },
  {
   "cell_type": "code",
   "execution_count": null,
   "metadata": {
    "collapsed": true
   },
   "outputs": [],
   "source": []
  }
 ],
 "metadata": {
  "kernelspec": {
   "display_name": "Python 3",
   "language": "python",
   "name": "python3"
  },
  "language_info": {
   "codemirror_mode": {
    "name": "ipython",
    "version": 3
   },
   "file_extension": ".py",
   "mimetype": "text/x-python",
   "name": "python",
   "nbconvert_exporter": "python",
   "pygments_lexer": "ipython3",
   "version": "3.6.0"
  }
 },
 "nbformat": 4,
 "nbformat_minor": 2
}
